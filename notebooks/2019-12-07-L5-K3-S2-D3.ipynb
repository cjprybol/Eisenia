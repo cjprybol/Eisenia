{
 "cells": [
  {
   "cell_type": "code",
   "execution_count": 1,
   "metadata": {},
   "outputs": [],
   "source": [
    "import Eisenia"
   ]
  },
  {
   "cell_type": "code",
   "execution_count": 2,
   "metadata": {},
   "outputs": [],
   "source": [
    "import BioSequences\n",
    "import GeneticVariation"
   ]
  },
  {
   "cell_type": "code",
   "execution_count": 3,
   "metadata": {},
   "outputs": [],
   "source": [
    "import Random"
   ]
  },
  {
   "cell_type": "code",
   "execution_count": 4,
   "metadata": {},
   "outputs": [],
   "source": [
    "import Dates\n",
    "import LightGraphs\n",
    "import Statistics\n",
    "import StatsBase"
   ]
  },
  {
   "cell_type": "code",
   "execution_count": 5,
   "metadata": {},
   "outputs": [
    {
     "data": {
      "text/plain": [
       "Random.MersenneTwister(UInt32[0x00000005], Random.DSFMT.DSFMT_state(Int32[-85655800, 1072952617, -522203688, 1073721902, 1588056292, 1072823262, 1930843968, 1073164255, -719121749, 1073022455  …  647343590, 1073165527, 1405924594, 1072769931, 1969171087, 42945320, -226019479, -1469955508, 382, 0]), [0.0, 0.0, 0.0, 0.0, 0.0, 0.0, 0.0, 0.0, 0.0, 0.0  …  0.0, 0.0, 0.0, 0.0, 0.0, 0.0, 0.0, 0.0, 0.0, 0.0], UInt128[0x00000000000000000000000000000000, 0x00000000000000000000000000000000, 0x00000000000000000000000000000000, 0x00000000000000000000000000000000, 0x00000000000000000000000000000000, 0x00000000000000000000000000000000, 0x00000000000000000000000000000000, 0x00000000000000000000000000000000, 0x00000000000000000000000000000000, 0x00000000000000000000000000000000  …  0x00000000000000000000000000000000, 0x00000000000000000000000000000000, 0x00000000000000000000000000000000, 0x00000000000000000000000000000000, 0x00000000000000000000000000000000, 0x00000000000000000000000000000000, 0x00000000000000000000000000000000, 0x00000000000000000000000000000000, 0x00000000000000000000000000000000, 0x00000000000000000000000000000000], 1002, 0)"
      ]
     },
     "execution_count": 5,
     "metadata": {},
     "output_type": "execute_result"
    }
   ],
   "source": [
    "LENGTH = 5\n",
    "k = 3\n",
    "N_SEQUENCES = 2\n",
    "Random.seed!(LENGTH)"
   ]
  },
  {
   "cell_type": "code",
   "execution_count": 6,
   "metadata": {},
   "outputs": [
    {
     "data": {
      "text/plain": [
       "2-element Array{BioSequences.FASTA.Record,1}:\n",
       " BioSequences.FASTA.Record:\n",
       "   identifier: rb3hy\n",
       "  description: <missing>\n",
       "     sequence: GTCTT\n",
       " BioSequences.FASTA.Record:\n",
       "   identifier: Mz1S6\n",
       "  description: <missing>\n",
       "     sequence: GTGAC"
      ]
     },
     "execution_count": 6,
     "metadata": {},
     "output_type": "execute_result"
    }
   ],
   "source": [
    "sequences = Vector{BioSequences.FASTA.Record}()\n",
    "for i in 1:N_SEQUENCES\n",
    "    seq = BioSequences.randdnaseq(LENGTH)\n",
    "    id = Random.randstring(LENGTH)\n",
    "    record = BioSequences.FASTA.Record(id, seq)\n",
    "    push!(sequences, record)\n",
    "end\n",
    "sequences"
   ]
  },
  {
   "cell_type": "code",
   "execution_count": 7,
   "metadata": {},
   "outputs": [
    {
     "data": {
      "text/plain": [
       "3"
      ]
     },
     "execution_count": 7,
     "metadata": {},
     "output_type": "execute_result"
    }
   ],
   "source": [
    "READ_DEPTH=3"
   ]
  },
  {
   "cell_type": "code",
   "execution_count": 8,
   "metadata": {},
   "outputs": [
    {
     "data": {
      "text/plain": [
       "6-element Array{BioSequences.FASTA.Record,1}:\n",
       " BioSequences.FASTA.Record:\n",
       "   identifier: wykeFdvYlui2\n",
       "  description: <missing>\n",
       "     sequence: GTCTT\n",
       " BioSequences.FASTA.Record:\n",
       "   identifier: yobYAJK5WEzK\n",
       "  description: <missing>\n",
       "     sequence: AAGAC\n",
       " BioSequences.FASTA.Record:\n",
       "   identifier: 8kot3XbhBxwh\n",
       "  description: <missing>\n",
       "     sequence: GTCTT\n",
       " BioSequences.FASTA.Record:\n",
       "   identifier: stTiiijF3Shc\n",
       "  description: <missing>\n",
       "     sequence: GTGAC\n",
       " BioSequences.FASTA.Record:\n",
       "   identifier: ZIeq5YfJjHNd\n",
       "  description: <missing>\n",
       "     sequence: GTGAC\n",
       " BioSequences.FASTA.Record:\n",
       "   identifier: vJyYjoRayiBZ\n",
       "  description: <missing>\n",
       "     sequence: GTGAC"
      ]
     },
     "execution_count": 8,
     "metadata": {},
     "output_type": "execute_result"
    }
   ],
   "source": [
    "observations = Vector{BioSequences.FASTA.Record}()\n",
    "for sequence in sequences\n",
    "    for depth in 1:READ_DEPTH\n",
    "        push!(observations, Eisenia.observe(sequence))\n",
    "    end\n",
    "end\n",
    "observations"
   ]
  },
  {
   "cell_type": "code",
   "execution_count": 9,
   "metadata": {},
   "outputs": [
    {
     "data": {
      "text/plain": [
       "(BioSequences.Kmer{BioSymbols.DNA,3}[AAG, AGA, CAC, GAC, TCA], [3, 3, 3, 6, 3])"
      ]
     },
     "execution_count": 9,
     "metadata": {},
     "output_type": "execute_result"
    }
   ],
   "source": [
    "canonical_kmers, canonical_kmer_counts = Eisenia.count_canonical_kmers(observations, k)"
   ]
  },
  {
   "cell_type": "code",
   "execution_count": 10,
   "metadata": {},
   "outputs": [
    {
     "data": {
      "text/plain": [
       "{10, 6} directed Int64 metagraph with Float64 weights defined by :weight (default weight 1.0)"
      ]
     },
     "execution_count": 10,
     "metadata": {},
     "output_type": "execute_result"
    }
   ],
   "source": [
    "stranded_kmer_graph = Eisenia.build_stranded_kmer_graph(canonical_kmers, observations)"
   ]
  },
  {
   "cell_type": "code",
   "execution_count": 11,
   "metadata": {},
   "outputs": [
    {
     "data": {
      "text/html": [
       "<image src=\"14324062447322809448.strand_specific.svg\" width=50%>\n"
      ],
      "text/plain": [
       "HTML{String}(\"<image src=\\\"14324062447322809448.strand_specific.svg\\\" width=50%>\\n\")"
      ]
     },
     "execution_count": 11,
     "metadata": {},
     "output_type": "execute_result"
    }
   ],
   "source": [
    "filename = \"$(hash(BioSequences.FASTA.identifier.(observations))).strand_specific.svg\"\n",
    "Eisenia.plot_stranded_kmer_graph(stranded_kmer_graph, filename=filename)\n",
    "HTML(\"\"\"\n",
    "<image src=\"$filename\" width=50%>\n",
    "\"\"\")"
   ]
  },
  {
   "cell_type": "code",
   "execution_count": 12,
   "metadata": {},
   "outputs": [
    {
     "data": {
      "text/plain": [
       "{5, 4} undirected Int64 metagraph with Float64 weights defined by :weight (default weight 1.0)"
      ]
     },
     "execution_count": 12,
     "metadata": {},
     "output_type": "execute_result"
    }
   ],
   "source": [
    "canonical_kmer_graph = Eisenia.build_canonical_kmer_graph(canonical_kmers, observations)"
   ]
  },
  {
   "cell_type": "code",
   "execution_count": 13,
   "metadata": {},
   "outputs": [
    {
     "data": {
      "text/html": [
       "<image src=\"14324062447322809448.canonical.svg\" width=50%>\n"
      ],
      "text/plain": [
       "HTML{String}(\"<image src=\\\"14324062447322809448.canonical.svg\\\" width=50%>\\n\")"
      ]
     },
     "execution_count": 13,
     "metadata": {},
     "output_type": "execute_result"
    }
   ],
   "source": [
    "filename = \"$(hash(BioSequences.FASTA.identifier.(observations))).canonical.svg\"\n",
    "Eisenia.plot_canonical_kmer_graph(canonical_kmer_graph, filename=filename)\n",
    "HTML(\"\"\"\n",
    "<image src=\"$filename\" width=50%>\n",
    "\"\"\")"
   ]
  },
  {
   "cell_type": "code",
   "execution_count": 14,
   "metadata": {},
   "outputs": [
    {
     "data": {
      "text/plain": [
       "(sequences = BioSequences.FASTA.Record[BioSequences.FASTA.Record:\n",
       "   identifier: 1\n",
       "  description: <missing>\n",
       "     sequence: AAGAC], variants = GeneticVariation.VCF.Record[])"
      ]
     },
     "execution_count": 14,
     "metadata": {},
     "output_type": "execute_result"
    }
   ],
   "source": [
    "Eisenia.report_graph_structure(canonical_kmer_graph)"
   ]
  },
  {
   "cell_type": "code",
   "execution_count": 15,
   "metadata": {},
   "outputs": [],
   "source": [
    "# return alternate paths along dominant path(s) with coverage info as VCF\n",
    "# not applicable here"
   ]
  },
  {
   "cell_type": "code",
   "execution_count": 55,
   "metadata": {},
   "outputs": [
    {
     "data": {
      "text/plain": [
       "walk (generic function with 1 method)"
      ]
     },
     "execution_count": 55,
     "metadata": {},
     "output_type": "execute_result"
    }
   ],
   "source": [
    "function walk(canonical_kmer_graph, initial_vertex, initial_orientation, visited)\n",
    "    current_vertex = initial_vertex\n",
    "    current_orientation = initial_orientation\n",
    "    walk = []\n",
    "    done = false\n",
    "    while !done\n",
    "        potential_next_steps = []\n",
    "        current_vertex_coverage = canonical_kmer_graph.vprops[current_vertex][:coverage]\n",
    "        # need to subset relevant coverage to what is in the graph\n",
    "        for coverage in current_vertex_coverage\n",
    "            (observation, (index, orientation)) = coverage\n",
    "            observation_path = canonical_kmer_graph.gprops[:observed_paths][observation]\n",
    "            # if true current orientation then we want to go up in trues and down in falses\n",
    "            if current_orientation\n",
    "                if orientation\n",
    "                    next_index = index + 1\n",
    "                else\n",
    "                    next_index = index - 1\n",
    "                end\n",
    "            else\n",
    "                if orientation\n",
    "                    next_index = index - 1\n",
    "                else\n",
    "                    next_index = index + 1\n",
    "                end\n",
    "            end\n",
    "            if next_index in eachindex(observation_path)\n",
    "                next_vertex, next_orientation = observation_path[next_index]\n",
    "                if !(next_vertex in visited)\n",
    "                    if next_index < index\n",
    "                        next_orientation = !next_orientation\n",
    "                    end\n",
    "                    push!(potential_next_steps, next_vertex => next_orientation)\n",
    "                end\n",
    "            end\n",
    "        end\n",
    "        if isempty(potential_next_steps)\n",
    "            done = true\n",
    "        else\n",
    "            step_votes = StatsBase.countmap(potential_next_steps)\n",
    "            max_count = maximum(values(step_votes))\n",
    "            all_best_steps = filter(step_vote -> step_vote[2] == max_count, step_votes)\n",
    "            next_step = first(rand(all_best_steps))\n",
    "            push!(walk, next_step)\n",
    "            current_vertex, current_orientation = next_step\n",
    "            visited = [visited..., current_vertex]\n",
    "        end\n",
    "    end\n",
    "    return walk\n",
    "end"
   ]
  },
  {
   "cell_type": "code",
   "execution_count": 73,
   "metadata": {},
   "outputs": [
    {
     "data": {
      "text/plain": [
       "report_graph_structure (generic function with 1 method)"
      ]
     },
     "execution_count": 73,
     "metadata": {},
     "output_type": "execute_result"
    }
   ],
   "source": [
    "function report_graph_structure(canonical_kmer_graph)\n",
    "    k = canonical_kmer_graph.gprops[:k]\n",
    "    sequences = BioSequences.FASTA.Record[]\n",
    "    variants = GeneticVariation.VCF.Record[]\n",
    "    # return the dominant path(s) as fasta with coverage info\n",
    "    for (i, connected_component) in enumerate(LightGraphs.connected_components(canonical_kmer_graph))\n",
    "        visited = Int[]\n",
    "        maximum_weight = maximum(v -> length(canonical_kmer_graph.vprops[v][:coverage]), connected_component)\n",
    "        maximum_weight_indices = findall(v -> length(canonical_kmer_graph.vprops[v][:coverage]) == maximum_weight, connected_component)\n",
    "        initial_vertex = connected_component[rand(maximum_weight_indices)]\n",
    "\n",
    "        true_walk = walk(canonical_kmer_graph, initial_vertex, true, visited)\n",
    "        false_walk = walk(canonical_kmer_graph, initial_vertex, false, visited)\n",
    "\n",
    "        reverse_complemented_false_walk = [vertex => !orientation for (vertex, orientation) in false_walk[end:-1:1]]\n",
    "        path = [reverse_complemented_false_walk..., initial_vertex => true, true_walk...]\n",
    "        (vertex, orientation) = first(path)\n",
    "        kmer = canonical_kmer_graph.gprops[:canonical_kmers][vertex]\n",
    "        if !orientation\n",
    "            kmer = BioSequences.reverse_complement(kmer)\n",
    "        end\n",
    "        initial_sequence = BioSequences.DNASequence(kmer)\n",
    "        path_sequence = initial_sequence\n",
    "        for (vertex, orientation) in path[2:end]\n",
    "            kmer = canonical_kmer_graph.gprops[:canonical_kmers][vertex]\n",
    "            if !orientation\n",
    "                kmer = BioSequences.reverse_complement(kmer)\n",
    "            end\n",
    "            sequence = BioSequences.DNASequence(kmer)\n",
    "            sequence\n",
    "            sequence_prefix = sequence[1:end-1]\n",
    "            path_sequence_suffix = path_sequence[end-(k-2):end]\n",
    "            @assert sequence_prefix == path_sequence_suffix\n",
    "            push!(path_sequence, sequence[end])\n",
    "        end\n",
    "        primary_contig = BioSequences.FASTA.Record(\"$i\", path_sequence)\n",
    "        push!(sequences, primary_contig)\n",
    "        visited = vcat(visited, first.(path))\n",
    "        remaining = [v for v in connected_component if !(v in visited)]\n",
    "        current_variant = 1\n",
    "        while !isempty(remaining)\n",
    "            maximum_weight = maximum(v -> length(canonical_kmer_graph.vprops[v][:coverage]), remaining)\n",
    "            maximum_weight_indices = findall(v -> length(canonical_kmer_graph.vprops[v][:coverage]) == maximum_weight, remaining)\n",
    "            initial_vertex = remaining[rand(maximum_weight_indices)]\n",
    "\n",
    "            true_walk = walk(canonical_kmer_graph, initial_vertex, true, visited)\n",
    "            false_walk = walk(canonical_kmer_graph, initial_vertex, false, visited)\n",
    "\n",
    "            reverse_complemented_false_walk = [vertex => !orientation for (vertex, orientation) in false_walk[end:-1:1]]\n",
    "            path = [reverse_complemented_false_walk..., initial_vertex => true, true_walk...]\n",
    "            (vertex, orientation) = first(path)\n",
    "            kmer = canonical_kmer_graph.gprops[:canonical_kmers][vertex]\n",
    "            if !orientation\n",
    "                kmer = BioSequences.reverse_complement(kmer)\n",
    "            end\n",
    "            initial_sequence = BioSequences.DNASequence(kmer)\n",
    "            path_sequence = initial_sequence\n",
    "            for (vertex, orientation) in path[2:end]\n",
    "                kmer = canonical_kmer_graph.gprops[:canonical_kmers][vertex]\n",
    "                if !orientation\n",
    "                    kmer = BioSequences.reverse_complement(kmer)\n",
    "                end\n",
    "                sequence = BioSequences.DNASequence(kmer)\n",
    "                sequence\n",
    "                sequence_prefix = sequence[1:end-1]\n",
    "                path_sequence_suffix = path_sequence[end-(k-2):end]\n",
    "                @assert sequence_prefix == path_sequence_suffix\n",
    "                push!(path_sequence, sequence[end])\n",
    "            end\n",
    "            @show BioSequences.FASTA.Record(\"$i-$current_variant\", path_sequence)\n",
    "            visited = vcat(visited, first.(path))\n",
    "            remaining = [v for v in connected_component if !(v in visited)]\n",
    "            current_variant += 1\n",
    "        end\n",
    "    end\n",
    "    return (sequences = sequences, variants = variants)\n",
    "end"
   ]
  },
  {
   "cell_type": "code",
   "execution_count": 74,
   "metadata": {},
   "outputs": [
    {
     "name": "stdout",
     "output_type": "stream",
     "text": [
      "BioSequences.FASTA.Record(\"$(i)-$(current_variant)\", path_sequence) = BioSequences.FASTA.Record:\n",
      "   identifier: 1-1\n",
      "  description: <missing>\n",
      "     sequence: AAGA\n"
     ]
    },
    {
     "data": {
      "text/plain": [
       "(sequences = BioSequences.FASTA.Record[BioSequences.FASTA.Record:\n",
       "   identifier: 1\n",
       "  description: <missing>\n",
       "     sequence: GTGAC], variants = GeneticVariation.VCF.Record[])"
      ]
     },
     "execution_count": 74,
     "metadata": {},
     "output_type": "execute_result"
    }
   ],
   "source": [
    "report_graph_structure(canonical_kmer_graph)"
   ]
  },
  {
   "cell_type": "code",
   "execution_count": null,
   "metadata": {},
   "outputs": [],
   "source": []
  }
 ],
 "metadata": {
  "kernelspec": {
   "display_name": "Julia 1.2.0",
   "language": "julia",
   "name": "julia-1.2"
  },
  "language_info": {
   "file_extension": ".jl",
   "mimetype": "application/julia",
   "name": "julia",
   "version": "1.2.0"
  }
 },
 "nbformat": 4,
 "nbformat_minor": 4
}
