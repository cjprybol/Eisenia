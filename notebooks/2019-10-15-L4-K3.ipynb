{
 "cells": [
  {
   "cell_type": "code",
   "execution_count": 2,
   "metadata": {},
   "outputs": [
    {
     "name": "stderr",
     "output_type": "stream",
     "text": [
      "┌ Info: Recompiling stale cache file /Users/cameronprybol/.julia/compiled/v1.2/Eisenia/cMB3l.ji for Eisenia [ff91eec8-cf20-4569-aeea-763e189e8d12]\n",
      "└ @ Base loading.jl:1240\n"
     ]
    }
   ],
   "source": [
    "import Eisenia"
   ]
  },
  {
   "cell_type": "code",
   "execution_count": 3,
   "metadata": {},
   "outputs": [],
   "source": [
    "import BioSequences"
   ]
  },
  {
   "cell_type": "code",
   "execution_count": 4,
   "metadata": {},
   "outputs": [],
   "source": [
    "import Random"
   ]
  },
  {
   "cell_type": "code",
   "execution_count": 5,
   "metadata": {},
   "outputs": [],
   "source": [
    "import Dates"
   ]
  },
  {
   "cell_type": "code",
   "execution_count": 6,
   "metadata": {},
   "outputs": [
    {
     "data": {
      "text/plain": [
       "4"
      ]
     },
     "execution_count": 6,
     "metadata": {},
     "output_type": "execute_result"
    }
   ],
   "source": [
    "LENGTH = 4"
   ]
  },
  {
   "cell_type": "code",
   "execution_count": 7,
   "metadata": {},
   "outputs": [
    {
     "data": {
      "text/plain": [
       "Random.MersenneTwister(UInt32[0x00000004], Random.DSFMT.DSFMT_state(Int32[-1125970028, 1072950084, 1987879523, 1073737715, 1318759160, 1073082403, -665387610, 1073002484, 775432869, 1072783382  …  -1193370493, 1072918807, 503071495, 1073572056, -1375397214, 586182507, 2038247757, 798803726, 382, 0]), [0.0, 0.0, 0.0, 0.0, 0.0, 0.0, 0.0, 0.0, 0.0, 0.0  …  0.0, 0.0, 0.0, 0.0, 0.0, 0.0, 0.0, 0.0, 0.0, 0.0], UInt128[0x00000000000000000000000000000000, 0x00000000000000000000000000000000, 0x00000000000000000000000000000000, 0x00000000000000000000000000000000, 0x00000000000000000000000000000000, 0x00000000000000000000000000000000, 0x00000000000000000000000000000000, 0x00000000000000000000000000000000, 0x00000000000000000000000000000000, 0x00000000000000000000000000000000  …  0x00000000000000000000000000000000, 0x00000000000000000000000000000000, 0x00000000000000000000000000000000, 0x00000000000000000000000000000000, 0x00000000000000000000000000000000, 0x00000000000000000000000000000000, 0x00000000000000000000000000000000, 0x00000000000000000000000000000000, 0x00000000000000000000000000000000, 0x00000000000000000000000000000000], 1002, 0)"
      ]
     },
     "execution_count": 7,
     "metadata": {},
     "output_type": "execute_result"
    }
   ],
   "source": [
    "Random.seed!(LENGTH)"
   ]
  },
  {
   "cell_type": "code",
   "execution_count": 8,
   "metadata": {},
   "outputs": [
    {
     "data": {
      "text/plain": [
       "4nt DNA Sequence:\n",
       "GTTT"
      ]
     },
     "execution_count": 8,
     "metadata": {},
     "output_type": "execute_result"
    }
   ],
   "source": [
    "seq = BioSequences.randdnaseq(LENGTH)"
   ]
  },
  {
   "cell_type": "code",
   "execution_count": 9,
   "metadata": {},
   "outputs": [
    {
     "data": {
      "text/plain": [
       "\"QTGJ\""
      ]
     },
     "execution_count": 9,
     "metadata": {},
     "output_type": "execute_result"
    }
   ],
   "source": [
    "id = Random.randstring(LENGTH)"
   ]
  },
  {
   "cell_type": "code",
   "execution_count": 10,
   "metadata": {},
   "outputs": [
    {
     "data": {
      "text/plain": [
       "BioSequences.FASTA.Record:\n",
       "   identifier: QTGJ\n",
       "  description: <missing>\n",
       "     sequence: GTTT"
      ]
     },
     "execution_count": 10,
     "metadata": {},
     "output_type": "execute_result"
    }
   ],
   "source": [
    "record = BioSequences.FASTA.Record(id, seq)"
   ]
  },
  {
   "cell_type": "code",
   "execution_count": 11,
   "metadata": {},
   "outputs": [
    {
     "data": {
      "text/plain": [
       "2-element Array{BioSequences.Kmer{BioSymbols.DNA,3},1}:\n",
       " AAC\n",
       " AAA"
      ]
     },
     "execution_count": 11,
     "metadata": {},
     "output_type": "execute_result"
    }
   ],
   "source": [
    "canonical_kmers =\n",
    "    unique([BioSequences.canonical(kmer) for (index, kmer) in\n",
    "            BioSequences.each(BioSequences.DNAKmer{3}, BioSequences.FASTA.sequence(record))])"
   ]
  },
  {
   "cell_type": "code",
   "execution_count": 12,
   "metadata": {},
   "outputs": [
    {
     "data": {
      "text/plain": [
       "1-element Array{BioSequences.FASTA.Record,1}:\n",
       " BioSequences.FASTA.Record:\n",
       "   identifier: QTGJ\n",
       "  description: <missing>\n",
       "     sequence: GTTT"
      ]
     },
     "execution_count": 12,
     "metadata": {},
     "output_type": "execute_result"
    }
   ],
   "source": [
    "observations = [record]"
   ]
  },
  {
   "cell_type": "code",
   "execution_count": 13,
   "metadata": {},
   "outputs": [
    {
     "data": {
      "text/latex": [
       "\\begin{verbatim}\n",
       "build_stranded_kmer_graph(canonical_kmers, observations)\n",
       "\\end{verbatim}\n",
       "Create a weighted, strand-specific kmer (de bruijn) graph from a set of kmers and a series of sequence observations in FASTA format.\n",
       "\n",
       "Each vertex is represented as an integer, 1..n That vertex integer maps to a kmer in an n-length list of kmers Each vertex is backed up by evidence in the form of (read \\# => (index in read => orientation))\n",
       "\n",
       "Each edge is represented by a directional pair of (vertex => vertex)\n",
       "\n"
      ],
      "text/markdown": [
       "```\n",
       "build_stranded_kmer_graph(canonical_kmers, observations)\n",
       "```\n",
       "\n",
       "Create a weighted, strand-specific kmer (de bruijn) graph from a set of kmers and a series of sequence observations in FASTA format.\n",
       "\n",
       "Each vertex is represented as an integer, 1..n That vertex integer maps to a kmer in an n-length list of kmers Each vertex is backed up by evidence in the form of (read # => (index in read => orientation))\n",
       "\n",
       "Each edge is represented by a directional pair of (vertex => vertex)\n"
      ],
      "text/plain": [
       "\u001b[36m  build_stranded_kmer_graph(canonical_kmers, observations)\u001b[39m\n",
       "\n",
       "  Create a weighted, strand-specific kmer (de bruijn) graph from a set of\n",
       "  kmers and a series of sequence observations in FASTA format.\n",
       "\n",
       "  Each vertex is represented as an integer, 1..n That vertex integer maps to a\n",
       "  kmer in an n-length list of kmers Each vertex is backed up by evidence in\n",
       "  the form of (read # => (index in read => orientation))\n",
       "\n",
       "  Each edge is represented by a directional pair of (vertex => vertex)"
      ]
     },
     "execution_count": 13,
     "metadata": {},
     "output_type": "execute_result"
    }
   ],
   "source": [
    "?Eisenia.build_stranded_kmer_graph"
   ]
  },
  {
   "cell_type": "code",
   "execution_count": 22,
   "metadata": {},
   "outputs": [
    {
     "data": {
      "text/plain": [
       "{4, 2} directed Int64 metagraph with Float64 weights defined by :weight (default weight 1.0)"
      ]
     },
     "execution_count": 22,
     "metadata": {},
     "output_type": "execute_result"
    }
   ],
   "source": [
    "stranded_kmer_graph = Eisenia.build_stranded_kmer_graph(canonical_kmers, observations)"
   ]
  },
  {
   "cell_type": "code",
   "execution_count": 23,
   "metadata": {},
   "outputs": [
    {
     "data": {
      "text/html": [
       "<image src=\"QTGJ.strand_specific.svg\" width=50%>\n"
      ],
      "text/plain": [
       "HTML{String}(\"<image src=\\\"QTGJ.strand_specific.svg\\\" width=50%>\\n\")"
      ]
     },
     "execution_count": 23,
     "metadata": {},
     "output_type": "execute_result"
    }
   ],
   "source": [
    "filename = \"$(BioSequences.FASTA.identifier(record)).strand_specific.svg\"\n",
    "Eisenia.plot_stranded_kmer_graph(stranded_kmer_graph, filename=filename)\n",
    "HTML(\"\"\"\n",
    "<image src=\"$filename\" width=50%>\n",
    "\"\"\")"
   ]
  },
  {
   "cell_type": "code",
   "execution_count": 24,
   "metadata": {},
   "outputs": [
    {
     "name": "stdout",
     "output_type": "stream",
     "text": [
      "(stranded_kmer_graph.vprops[vertex])[:coverage] = Pair{Int64,Pair{Int64,Bool}}[]\n",
      "(stranded_kmer_graph.vprops[vertex])[:coverage] = Pair{Int64,Pair{Int64,Bool}}[]\n",
      "(stranded_kmer_graph.vprops[vertex])[:coverage] = Pair{Int64,Pair{Int64,Bool}}[1 => (1 => 1)]\n",
      "(stranded_kmer_graph.vprops[vertex])[:coverage] = Pair{Int64,Pair{Int64,Bool}}[1 => (2 => 1)]\n",
      "(stranded_kmer_graph.eprops[edge])[:coverage] = Pair{Pair{Int64,Pair{Int64,Bool}},Pair{Int64,Pair{Int64,Bool}}}[]\n",
      "(stranded_kmer_graph.eprops[edge])[:coverage] = Pair{Pair{Int64,Pair{Int64,Bool}},Pair{Int64,Pair{Int64,Bool}}}[(1 => (1 => 1)) => (1 => (2 => 1))]\n"
     ]
    }
   ],
   "source": [
    "# normalize me\n",
    "Eisenia.normalize!(stranded_kmer_graph)"
   ]
  },
  {
   "cell_type": "code",
   "execution_count": 25,
   "metadata": {},
   "outputs": [],
   "source": [
    "import LightGraphs"
   ]
  },
  {
   "cell_type": "code",
   "execution_count": 45,
   "metadata": {},
   "outputs": [],
   "source": [
    "for vertex in LightGraphs.vertices(stranded_kmer_graph)\n",
    "    vertex′ = stranded_kmer_graph.gprops[:reverse_complement_map][vertex]\n",
    "    \n",
    "    vertex_coverage = stranded_kmer_graph.vprops[vertex][:coverage]\n",
    "    vertex_coverage′ = Vector{eltype(vertex_coverage)}(undef, length(vertex_coverage))\n",
    "    \n",
    "    vertex′_coverage = stranded_kmer_graph.vprops[vertex′][:coverage]\n",
    "    vertex′_coverage′ = Vector{eltype(vertex′_coverage)}(undef, length(vertex′_coverage))\n",
    "    \n",
    "    for (i, (read_index, (index_in_read, orientation))) in enumerate(vertex_coverage)\n",
    "        vertex_coverage′[i] = (read_index => (index_in_read => !orientation))\n",
    "    end\n",
    "    for (i, (read_index, (index_in_read, orientation))) in enumerate(vertex′_coverage)\n",
    "        vertex′_coverage′[i] = (read_index => (index_in_read => !orientation))\n",
    "    end\n",
    "    \n",
    "    unique!(append!(stranded_kmer_graph.vprops[vertex][:coverage], vertex′_coverage′))\n",
    "    unique!(append!(stranded_kmer_graph.vprops[vertex′][:coverage], vertex_coverage′))\n",
    "end"
   ]
  },
  {
   "cell_type": "code",
   "execution_count": 46,
   "metadata": {},
   "outputs": [
    {
     "name": "stdout",
     "output_type": "stream",
     "text": [
      "(stranded_kmer_graph.vprops[vertex])[:coverage] = Pair{Int64,Pair{Int64,Bool}}[1 => (2 => 0)]\n",
      "(stranded_kmer_graph.vprops[vertex])[:coverage] = Pair{Int64,Pair{Int64,Bool}}[1 => (1 => 0)]\n",
      "(stranded_kmer_graph.vprops[vertex])[:coverage] = Pair{Int64,Pair{Int64,Bool}}[1 => (1 => 1)]\n",
      "(stranded_kmer_graph.vprops[vertex])[:coverage] = Pair{Int64,Pair{Int64,Bool}}[1 => (2 => 1)]\n"
     ]
    }
   ],
   "source": [
    "for vertex in LightGraphs.vertices(stranded_kmer_graph)\n",
    "    @show stranded_kmer_graph.vprops[vertex][:coverage]\n",
    "end"
   ]
  },
  {
   "cell_type": "code",
   "execution_count": 47,
   "metadata": {},
   "outputs": [
    {
     "data": {
      "text/html": [
       "<image src=\"QTGJ.strand_specific.svg\" width=50%>\n"
      ],
      "text/plain": [
       "HTML{String}(\"<image src=\\\"QTGJ.strand_specific.svg\\\" width=50%>\\n\")"
      ]
     },
     "execution_count": 47,
     "metadata": {},
     "output_type": "execute_result"
    }
   ],
   "source": [
    "filename = \"$(BioSequences.FASTA.identifier(record)).strand_specific.svg\"\n",
    "Eisenia.plot_stranded_kmer_graph(stranded_kmer_graph, filename=filename)\n",
    "HTML(\"\"\"\n",
    "<image src=\"$filename\" width=50%>\n",
    "\"\"\")"
   ]
  },
  {
   "cell_type": "code",
   "execution_count": 21,
   "metadata": {},
   "outputs": [
    {
     "name": "stdout",
     "output_type": "stream",
     "text": [
      "edge = Edge 1 => 2\n",
      "(stranded_kmer_graph.eprops[edge])[:coverage] = Pair{Pair{Int64,Pair{Int64,Bool}},Pair{Int64,Pair{Int64,Bool}}}[]\n",
      "edge = Edge 3 => 4\n",
      "(stranded_kmer_graph.eprops[edge])[:coverage] = Pair{Pair{Int64,Pair{Int64,Bool}},Pair{Int64,Pair{Int64,Bool}}}[(1 => (1 => 1)) => (1 => (2 => 1))]\n"
     ]
    }
   ],
   "source": [
    "for edge in LightGraphs.edges(stranded_kmer_graph)\n",
    "    @show edge\n",
    "    @show stranded_kmer_graph.eprops[edge][:coverage]\n",
    "    \n",
    "end"
   ]
  },
  {
   "cell_type": "code",
   "execution_count": null,
   "metadata": {},
   "outputs": [],
   "source": [
    "# replot with normalized"
   ]
  },
  {
   "cell_type": "code",
   "execution_count": null,
   "metadata": {},
   "outputs": [],
   "source": [
    "# make sure that each read has the same color (did I already do that?)"
   ]
  }
 ],
 "metadata": {
  "kernelspec": {
   "display_name": "Julia 1.2.0",
   "language": "julia",
   "name": "julia-1.2"
  },
  "language_info": {
   "file_extension": ".jl",
   "mimetype": "application/julia",
   "name": "julia",
   "version": "1.2.0"
  }
 },
 "nbformat": 4,
 "nbformat_minor": 4
}
