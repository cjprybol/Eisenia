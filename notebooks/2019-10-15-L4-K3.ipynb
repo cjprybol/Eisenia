{
 "cells": [
  {
   "cell_type": "code",
   "execution_count": 1,
   "metadata": {},
   "outputs": [
    {
     "name": "stdout",
     "output_type": "stream",
     "text": [
      "\u001b[32m\u001b[1m  Updating\u001b[22m\u001b[39m registry at `~/.julia/registries/BioJuliaRegistry`\n",
      "\u001b[32m\u001b[1m  Updating\u001b[22m\u001b[39m git-repo `git@github.com:BioJulia/BioJuliaRegistry.git`\n",
      "\u001b[?25l\u001b[2K\u001b[?25h\u001b[32m\u001b[1m  Updating\u001b[22m\u001b[39m registry at `~/.julia/registries/General`\n",
      "\u001b[32m\u001b[1m  Updating\u001b[22m\u001b[39m git-repo `https://github.com/JuliaRegistries/General.git`\n",
      "\u001b[?25l\u001b[2K\u001b[?25h\u001b[32m\u001b[1m Resolving\u001b[22m\u001b[39m package versions...\n",
      "\u001b[32m\u001b[1m  Updating\u001b[22m\u001b[39m `~/.julia/environments/v1.2/Project.toml`\n",
      "\u001b[90m [no changes]\u001b[39m\n",
      "\u001b[32m\u001b[1m  Updating\u001b[22m\u001b[39m `~/.julia/environments/v1.2/Manifest.toml`\n",
      "\u001b[90m [no changes]\u001b[39m\n"
     ]
    },
    {
     "name": "stderr",
     "output_type": "stream",
     "text": [
      "┌ Info: Precompiling BioSequences [7e6ae17a-c86d-528c-b3b9-7f778a29fe59]\n",
      "└ @ Base loading.jl:1242\n",
      "[ Info: Compiling bit-parallel GC counter for LongSequence{<:NucleicAcidAlphabet}\n",
      "[ Info: Compiling bit-parallel mismatch counter for LongSequence{<:NucleicAcidAlphabet}\n",
      "[ Info: Compiling bit-parallel match counter for LongSequence{<:NucleicAcidAlphabet}\n",
      "[ Info: Compiling bit-parallel ambiguity counter for LongSequence{<:NucleicAcidAlphabet}\n",
      "[ Info: Compiling bit-parallel certainty counter for LongSequence{<:NucleicAcidAlphabet}\n",
      "[ Info: Compiling bit-parallel gap counter for LongSequence{<:NucleicAcidAlphabet}\n"
     ]
    }
   ],
   "source": [
    "import Pkg; Pkg.add(\"BioSequences\"); using BioSequences"
   ]
  },
  {
   "cell_type": "code",
   "execution_count": 6,
   "metadata": {},
   "outputs": [
    {
     "name": "stdout",
     "output_type": "stream",
     "text": [
      "\u001b[32m\u001b[1m    Status\u001b[22m\u001b[39m `~/.julia/environments/v1.2/Project.toml`\n",
      " \u001b[90m [7e6ae17a]\u001b[39m\u001b[37m BioSequences v2.0.0\u001b[39m\n"
     ]
    }
   ],
   "source": [
    "# confirm that I am using the up-to-date version of biosequences\n",
    "Pkg.status(\"BioSequences\")"
   ]
  },
  {
   "cell_type": "code",
   "execution_count": 2,
   "metadata": {},
   "outputs": [],
   "source": [
    "using Random"
   ]
  },
  {
   "cell_type": "code",
   "execution_count": 3,
   "metadata": {},
   "outputs": [
    {
     "data": {
      "text/plain": [
       "MersenneTwister(UInt32[0x00000004], Random.DSFMT.DSFMT_state(Int32[-1125970028, 1072950084, 1987879523, 1073737715, 1318759160, 1073082403, -665387610, 1073002484, 775432869, 1072783382  …  -1193370493, 1072918807, 503071495, 1073572056, -1375397214, 586182507, 2038247757, 798803726, 382, 0]), [0.0, 0.0, 0.0, 0.0, 0.0, 0.0, 0.0, 0.0, 0.0, 0.0  …  0.0, 0.0, 0.0, 0.0, 0.0, 0.0, 0.0, 0.0, 0.0, 0.0], UInt128[0x00000000000000000000000000000000, 0x00000000000000000000000000000000, 0x00000000000000000000000000000000, 0x00000000000000000000000000000000, 0x00000000000000000000000000000000, 0x00000000000000000000000000000000, 0x00000000000000000000000000000000, 0x00000000000000000000000000000000, 0x00000000000000000000000000000000, 0x00000000000000000000000000000000  …  0x00000000000000000000000000000000, 0x00000000000000000000000000000000, 0x00000000000000000000000000000000, 0x00000000000000000000000000000000, 0x00000000000000000000000000000000, 0x00000000000000000000000000000000, 0x00000000000000000000000000000000, 0x00000000000000000000000000000000, 0x00000000000000000000000000000000, 0x00000000000000000000000000000000], 1002, 0)"
      ]
     },
     "execution_count": 3,
     "metadata": {},
     "output_type": "execute_result"
    }
   ],
   "source": [
    "Random.seed!(4)"
   ]
  },
  {
   "cell_type": "code",
   "execution_count": 4,
   "metadata": {},
   "outputs": [
    {
     "data": {
      "text/plain": [
       "4nt DNA Sequence:\n",
       "CTGG"
      ]
     },
     "execution_count": 4,
     "metadata": {},
     "output_type": "execute_result"
    }
   ],
   "source": [
    "seq = randdnaseq(4)"
   ]
  }
 ],
 "metadata": {
  "kernelspec": {
   "display_name": "Julia 1.2.0",
   "language": "julia",
   "name": "julia-1.2"
  },
  "language_info": {
   "file_extension": ".jl",
   "mimetype": "application/julia",
   "name": "julia",
   "version": "1.2.0"
  }
 },
 "nbformat": 4,
 "nbformat_minor": 4
}
