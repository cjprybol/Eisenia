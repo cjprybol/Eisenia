{
 "cells": [
  {
   "cell_type": "code",
   "execution_count": 1,
   "metadata": {},
   "outputs": [
    {
     "name": "stderr",
     "output_type": "stream",
     "text": [
      "┌ Info: Recompiling stale cache file /Users/cameronprybol/.julia/compiled/v1.2/Eisenia/cMB3l.ji for Eisenia [ff91eec8-cf20-4569-aeea-763e189e8d12]\n",
      "└ @ Base loading.jl:1240\n"
     ]
    }
   ],
   "source": [
    "import Eisenia"
   ]
  },
  {
   "cell_type": "code",
   "execution_count": 2,
   "metadata": {},
   "outputs": [],
   "source": [
    "import BioSequences"
   ]
  },
  {
   "cell_type": "code",
   "execution_count": 3,
   "metadata": {},
   "outputs": [],
   "source": [
    "import Random"
   ]
  },
  {
   "cell_type": "code",
   "execution_count": 92,
   "metadata": {},
   "outputs": [],
   "source": [
    "import Dates\n",
    "import LightGraphs\n",
    "import Statistics"
   ]
  },
  {
   "cell_type": "code",
   "execution_count": 5,
   "metadata": {},
   "outputs": [
    {
     "data": {
      "text/plain": [
       "4"
      ]
     },
     "execution_count": 5,
     "metadata": {},
     "output_type": "execute_result"
    }
   ],
   "source": [
    "LENGTH = 4"
   ]
  },
  {
   "cell_type": "code",
   "execution_count": 6,
   "metadata": {},
   "outputs": [
    {
     "data": {
      "text/plain": [
       "Random.MersenneTwister(UInt32[0x00000004], Random.DSFMT.DSFMT_state(Int32[-1125970028, 1072950084, 1987879523, 1073737715, 1318759160, 1073082403, -665387610, 1073002484, 775432869, 1072783382  …  -1193370493, 1072918807, 503071495, 1073572056, -1375397214, 586182507, 2038247757, 798803726, 382, 0]), [0.0, 0.0, 0.0, 0.0, 0.0, 0.0, 0.0, 0.0, 0.0, 0.0  …  0.0, 0.0, 0.0, 0.0, 0.0, 0.0, 0.0, 0.0, 0.0, 0.0], UInt128[0x00000000000000000000000000000000, 0x00000000000000000000000000000000, 0x00000000000000000000000000000000, 0x00000000000000000000000000000000, 0x00000000000000000000000000000000, 0x00000000000000000000000000000000, 0x00000000000000000000000000000000, 0x00000000000000000000000000000000, 0x00000000000000000000000000000000, 0x00000000000000000000000000000000  …  0x00000000000000000000000000000000, 0x00000000000000000000000000000000, 0x00000000000000000000000000000000, 0x00000000000000000000000000000000, 0x00000000000000000000000000000000, 0x00000000000000000000000000000000, 0x00000000000000000000000000000000, 0x00000000000000000000000000000000, 0x00000000000000000000000000000000, 0x00000000000000000000000000000000], 1002, 0)"
      ]
     },
     "execution_count": 6,
     "metadata": {},
     "output_type": "execute_result"
    }
   ],
   "source": [
    "Random.seed!(LENGTH)"
   ]
  },
  {
   "cell_type": "code",
   "execution_count": 7,
   "metadata": {},
   "outputs": [
    {
     "data": {
      "text/plain": [
       "4nt DNA Sequence:\n",
       "GTTT"
      ]
     },
     "execution_count": 7,
     "metadata": {},
     "output_type": "execute_result"
    }
   ],
   "source": [
    "seq = BioSequences.randdnaseq(LENGTH)"
   ]
  },
  {
   "cell_type": "code",
   "execution_count": 8,
   "metadata": {},
   "outputs": [
    {
     "data": {
      "text/plain": [
       "\"QTGJ\""
      ]
     },
     "execution_count": 8,
     "metadata": {},
     "output_type": "execute_result"
    }
   ],
   "source": [
    "id = Random.randstring(LENGTH)"
   ]
  },
  {
   "cell_type": "code",
   "execution_count": 9,
   "metadata": {},
   "outputs": [
    {
     "data": {
      "text/plain": [
       "BioSequences.FASTA.Record:\n",
       "   identifier: QTGJ\n",
       "  description: <missing>\n",
       "     sequence: GTTT"
      ]
     },
     "execution_count": 9,
     "metadata": {},
     "output_type": "execute_result"
    }
   ],
   "source": [
    "record = BioSequences.FASTA.Record(id, seq)"
   ]
  },
  {
   "cell_type": "code",
   "execution_count": 10,
   "metadata": {},
   "outputs": [
    {
     "data": {
      "text/plain": [
       "2-element Array{BioSequences.Kmer{BioSymbols.DNA,3},1}:\n",
       " AAA\n",
       " AAC"
      ]
     },
     "execution_count": 10,
     "metadata": {},
     "output_type": "execute_result"
    }
   ],
   "source": [
    "canonical_kmers =\n",
    "    sort(\n",
    "    unique([BioSequences.canonical(kmer) for (index, kmer) in\n",
    "            BioSequences.each(BioSequences.DNAKmer{3}, BioSequences.FASTA.sequence(record))])\n",
    "    )"
   ]
  },
  {
   "cell_type": "code",
   "execution_count": 11,
   "metadata": {},
   "outputs": [
    {
     "data": {
      "text/plain": [
       "1-element Array{BioSequences.FASTA.Record,1}:\n",
       " BioSequences.FASTA.Record:\n",
       "   identifier: QTGJ\n",
       "  description: <missing>\n",
       "     sequence: GTTT"
      ]
     },
     "execution_count": 11,
     "metadata": {},
     "output_type": "execute_result"
    }
   ],
   "source": [
    "observations = [record]"
   ]
  },
  {
   "cell_type": "code",
   "execution_count": 12,
   "metadata": {},
   "outputs": [
    {
     "data": {
      "text/latex": [
       "\\begin{verbatim}\n",
       "build_stranded_kmer_graph(canonical_kmers, observations)\n",
       "\\end{verbatim}\n",
       "Create a weighted, strand-specific kmer (de bruijn) graph from a set of kmers and a series of sequence observations in FASTA format.\n",
       "\n"
      ],
      "text/markdown": [
       "```\n",
       "build_stranded_kmer_graph(canonical_kmers, observations)\n",
       "```\n",
       "\n",
       "Create a weighted, strand-specific kmer (de bruijn) graph from a set of kmers and a series of sequence observations in FASTA format.\n"
      ],
      "text/plain": [
       "\u001b[36m  build_stranded_kmer_graph(canonical_kmers, observations)\u001b[39m\n",
       "\n",
       "  Create a weighted, strand-specific kmer (de bruijn) graph from a set of\n",
       "  kmers and a series of sequence observations in FASTA format."
      ]
     },
     "execution_count": 12,
     "metadata": {},
     "output_type": "execute_result"
    }
   ],
   "source": [
    "?Eisenia.build_stranded_kmer_graph"
   ]
  },
  {
   "cell_type": "code",
   "execution_count": 13,
   "metadata": {},
   "outputs": [
    {
     "data": {
      "text/plain": [
       "{4, 1} directed Int64 metagraph with Float64 weights defined by :weight (default weight 1.0)"
      ]
     },
     "execution_count": 13,
     "metadata": {},
     "output_type": "execute_result"
    }
   ],
   "source": [
    "stranded_kmer_graph = Eisenia.build_stranded_kmer_graph(canonical_kmers, observations)"
   ]
  },
  {
   "cell_type": "code",
   "execution_count": 14,
   "metadata": {},
   "outputs": [
    {
     "data": {
      "text/html": [
       "<image src=\"QTGJ.strand_specific.svg\" width=50%>\n"
      ],
      "text/plain": [
       "HTML{String}(\"<image src=\\\"QTGJ.strand_specific.svg\\\" width=50%>\\n\")"
      ]
     },
     "execution_count": 14,
     "metadata": {},
     "output_type": "execute_result"
    }
   ],
   "source": [
    "filename = \"$(BioSequences.FASTA.identifier(record)).strand_specific.svg\"\n",
    "Eisenia.plot_stranded_kmer_graph(stranded_kmer_graph, filename=filename)\n",
    "HTML(\"\"\"\n",
    "<image src=\"$filename\" width=50%>\n",
    "\"\"\")"
   ]
  },
  {
   "cell_type": "markdown",
   "metadata": {},
   "source": [
    "I don't think we should normalize, it doesn't seem necessary. Instead, we should always build the stranded kmer graph, and plot that. The stranded kmer graph is used for viterbi. Canonical kmer graph is undirected. Collapse down the directed graph, retaining read and strand info. Use simple graph structure to determine reference path and call variants. Use dominant orientation to determine which orientation to report."
   ]
  },
  {
   "cell_type": "code",
   "execution_count": 15,
   "metadata": {},
   "outputs": [
    {
     "data": {
      "text/plain": [
       "{2, 1} undirected Int64 metagraph with Float64 weights defined by :weight (default weight 1.0)"
      ]
     },
     "execution_count": 15,
     "metadata": {},
     "output_type": "execute_result"
    }
   ],
   "source": [
    "canonical_kmer_graph = Eisenia.build_canonical_kmer_graph(canonical_kmers, observations)"
   ]
  },
  {
   "cell_type": "code",
   "execution_count": 16,
   "metadata": {},
   "outputs": [
    {
     "data": {
      "text/html": [
       "<image src=\"QTGJ.canonical.svg\" width=50%>\n"
      ],
      "text/plain": [
       "HTML{String}(\"<image src=\\\"QTGJ.canonical.svg\\\" width=50%>\\n\")"
      ]
     },
     "execution_count": 16,
     "metadata": {},
     "output_type": "execute_result"
    }
   ],
   "source": [
    "filename = \"$(BioSequences.FASTA.identifier(record)).canonical.svg\"\n",
    "Eisenia.plot_canonical_kmer_graph(canonical_kmer_graph, filename=filename)\n",
    "HTML(\"\"\"\n",
    "<image src=\"$filename\" width=50%>\n",
    "\"\"\")"
   ]
  },
  {
   "cell_type": "code",
   "execution_count": 108,
   "metadata": {},
   "outputs": [
    {
     "name": "stdout",
     "output_type": "stream",
     "text": [
      "maximum_weight = 1\n",
      "maximum_weight_indices = [1, 2]\n",
      "initial_vertex = 1\n",
      "coverage = 1 => (2 => false)\n",
      "next_step = 1 => (1 => false)\n",
      "true_walk = Any[2 => true]\n",
      "coverage = 1 => (2 => false)\n",
      "next_step = 1 => (3 => false)\n",
      "false_walk = Any[]\n",
      "reverse_complemented_false_walk = Pair[]\n",
      "path = [reverse_complemented_false_walk..., initial_vertex => true, true_walk...] = Pair{Int64,Bool}[1 => 1, 2 => 1]\n",
      "initial_sequence = AAA\n",
      "sequence = AAC\n",
      "sequence_prefix = sequence[1:end - 1] = AA\n",
      "path_sequence_suffix = path_sequence[end - (k - 2):end] = AA\n",
      "path_sequence = AAAC\n",
      "path_coverage = [1, 1]\n",
      "Statistics.mean(path_coverage) = 1.0\n",
      "maximum(path_coverage) = 1\n",
      "minimum(path_coverage) = 1\n",
      "Statistics.middle(path_coverage) = 1.0\n",
      "Statistics.median(path_coverage) = 1.0\n",
      "Statistics.std(path_coverage) = 0.0\n"
     ]
    }
   ],
   "source": [
    "# return the dominant path(s) as fasta with coverage info\n",
    "for (i, connected_component) in enumerate(LightGraphs.connected_components(canonical_kmer_graph))\n",
    "    maximum_weight = maximum(v -> length(canonical_kmer_graph.vprops[v][:coverage]), connected_component)\n",
    "    @show maximum_weight\n",
    "    maximum_weight_indices = findall(v -> length(canonical_kmer_graph.vprops[v][:coverage]) == maximum_weight, connected_component)\n",
    "    @show maximum_weight_indices\n",
    "    initial_vertex = rand(maximum_weight_indices)\n",
    "    @show initial_vertex\n",
    "    true_walk = []\n",
    "    current_vertex = initial_vertex\n",
    "    for coverage in canonical_kmer_graph.vprops[initial_vertex][:coverage]\n",
    "        (o, (oi, oo)) = coverage\n",
    "        @show coverage\n",
    "        if oo\n",
    "            next_step = o => (oi+1 => oo)\n",
    "        else\n",
    "            next_step = o => (oi-1 => oo)\n",
    "        end\n",
    "        @show next_step\n",
    "        for neighbor in LightGraphs.neighbors(canonical_kmer_graph, current_vertex)\n",
    "            if next_step in canonical_kmer_graph.vprops[neighbor][:coverage]\n",
    "                push!(true_walk, (neighbor => true))\n",
    "            end\n",
    "        end\n",
    "    end\n",
    "    @show true_walk\n",
    "    false_walk = []\n",
    "    current_vertex = initial_vertex\n",
    "    for coverage in canonical_kmer_graph.vprops[initial_vertex][:coverage]\n",
    "        (o, (oi, oo)) = coverage\n",
    "        @show coverage\n",
    "        if oo\n",
    "            next_step = o => (oi-1 => oo)\n",
    "        else\n",
    "            next_step = o => (oi+1 => oo)\n",
    "        end\n",
    "        @show next_step\n",
    "        for neighbor in LightGraphs.neighbors(canonical_kmer_graph, current_vertex)\n",
    "            if next_step in canonical_kmer_graph.vprops[neighbor][:coverage]\n",
    "                push!(false_walk, (neighbor => false))\n",
    "            end\n",
    "        end\n",
    "    end\n",
    "    @show false_walk\n",
    "    reverse_complemented_false_walk = [vertex => !orientation for (vertex, orientation) in false_walk[end:-1:1]]\n",
    "    @show reverse_complemented_false_walk\n",
    "    @show path = [reverse_complemented_false_walk..., initial_vertex => true, true_walk...]\n",
    "    (vertex, orientation) = first(path)\n",
    "    kmer = canonical_kmer_graph.gprops[:canonical_kmers][vertex]\n",
    "    if !orientation\n",
    "        kmer = BioSequences.reverse_complement(kmer)\n",
    "    end\n",
    "    initial_sequence = BioSequences.DNASequence(kmer)\n",
    "    @show initial_sequence\n",
    "    path_sequence = initial_sequence\n",
    "    for (vertex, orientation) in path[2:end]\n",
    "        kmer = canonical_kmer_graph.gprops[:canonical_kmers][vertex]\n",
    "        if !orientation\n",
    "            kmer = BioSequences.reverse_complement(kmer)\n",
    "        end\n",
    "        sequence = BioSequences.DNASequence(kmer)\n",
    "        @show sequence\n",
    "        @show sequence_prefix = sequence[1:end-1]\n",
    "        k = length(sequence)\n",
    "        @show path_sequence_suffix = path_sequence[end-(k-2):end]\n",
    "        @assert sequence_prefix == path_sequence_suffix\n",
    "        push!(path_sequence, sequence[end])\n",
    "    end\n",
    "    @show path_sequence\n",
    "    path_coverage = [length(canonical_kmer_graph.vprops[vertex][:coverage]) for (vertex, orientation) in path]\n",
    "    @show path_coverage\n",
    "    @show Statistics.mean(path_coverage)\n",
    "    @show maximum(path_coverage)\n",
    "    @show minimum(path_coverage)\n",
    "    @show Statistics.middle(path_coverage)\n",
    "    @show Statistics.median(path_coverage)\n",
    "    @show Statistics.std(path_coverage)\n",
    "end"
   ]
  },
  {
   "cell_type": "code",
   "execution_count": null,
   "metadata": {},
   "outputs": [],
   "source": [
    "# return alternate paths along dominant path(s) with coverage info as VCF\n",
    "# not applicable here"
   ]
  }
 ],
 "metadata": {
  "kernelspec": {
   "display_name": "Julia 1.2.0",
   "language": "julia",
   "name": "julia-1.2"
  },
  "language_info": {
   "file_extension": ".jl",
   "mimetype": "application/julia",
   "name": "julia",
   "version": "1.2.0"
  }
 },
 "nbformat": 4,
 "nbformat_minor": 4
}
