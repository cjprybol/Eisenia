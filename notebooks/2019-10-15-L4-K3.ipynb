{
 "cells": [
  {
   "cell_type": "code",
   "execution_count": 2,
   "metadata": {},
   "outputs": [
    {
     "name": "stdout",
     "output_type": "stream",
     "text": [
      "\u001b[32m\u001b[1m  Updating\u001b[22m\u001b[39m registry at `~/.julia/registries/General`\n",
      "\u001b[32m\u001b[1m  Updating\u001b[22m\u001b[39m git-repo `https://github.com/JuliaRegistries/General.git`\n",
      "\u001b[?25l\u001b[2K\u001b[?25h\u001b[32m\u001b[1m Resolving\u001b[22m\u001b[39m package versions...\n"
     ]
    },
    {
     "name": "stderr",
     "output_type": "stream",
     "text": [
      "┌ Warning: julia version requirement for package Pseudoseq not satisfied\n",
      "└ @ Pkg.Operations /Users/julia/buildbot/worker/package_macos64/build/usr/share/julia/stdlib/v1.0/Pkg/src/Operations.jl:153\n"
     ]
    },
    {
     "name": "stdout",
     "output_type": "stream",
     "text": [
      "\u001b[32m\u001b[1m  Updating\u001b[22m\u001b[39m `~/.julia/environments/v1.0/Project.toml`\n",
      " \u001b[90m [7e6ae17a]\u001b[39m\u001b[92m + BioSequences v1.1.0\u001b[39m\n",
      "\u001b[32m\u001b[1m  Updating\u001b[22m\u001b[39m `~/.julia/environments/v1.0/Manifest.toml`\n",
      "\u001b[90m [no changes]\u001b[39m\n"
     ]
    },
    {
     "name": "stderr",
     "output_type": "stream",
     "text": [
      "┌ Info: Precompiling BioSequences [7e6ae17a-c86d-528c-b3b9-7f778a29fe59]\n",
      "└ @ Base loading.jl:1192\n"
     ]
    }
   ],
   "source": [
    "import Pkg; Pkg.add(\"BioSequences\"); using BioSequences"
   ]
  },
  {
   "cell_type": "code",
   "execution_count": 3,
   "metadata": {},
   "outputs": [],
   "source": [
    "using Random"
   ]
  },
  {
   "cell_type": "code",
   "execution_count": 8,
   "metadata": {},
   "outputs": [
    {
     "data": {
      "text/plain": [
       "MersenneTwister(UInt32[0x00000004], Random.DSFMT.DSFMT_state(Int32[-1125970028, 1072950084, 1987879523, 1073737715, 1318759160, 1073082403, -665387610, 1073002484, 775432869, 1072783382  …  -1193370493, 1072918807, 503071495, 1073572056, -1375397214, 586182507, 2038247757, 798803726, 382, 0]), [0.0, 0.0, 0.0, 0.0, 0.0, 0.0, 0.0, 0.0, 0.0, 0.0  …  0.0, 0.0, 0.0, 0.0, 0.0, 0.0, 0.0, 0.0, 0.0, 0.0], UInt128[0x00000000000000000000000000000000, 0x00000000000000000000000000000000, 0x00000000000000000000000000000000, 0x00000000000000000000000000000000, 0x00000000000000000000000000000000, 0x00000000000000000000000000000000, 0x00000000000000000000000000000000, 0x00000000000000000000000000000000, 0x00000000000000000000000000000000, 0x00000000000000000000000000000000  …  0x00000000000000000000000000000000, 0x00000000000000000000000000000000, 0x00000000000000000000000000000000, 0x00000000000000000000000000000000, 0x00000000000000000000000000000000, 0x00000000000000000000000000000000, 0x00000000000000000000000000000000, 0x00000000000000000000000000000000, 0x00000000000000000000000000000000, 0x00000000000000000000000000000000], 1002, 0)"
      ]
     },
     "execution_count": 8,
     "metadata": {},
     "output_type": "execute_result"
    }
   ],
   "source": [
    "Random.seed!(4)"
   ]
  },
  {
   "cell_type": "code",
   "execution_count": 9,
   "metadata": {},
   "outputs": [
    {
     "data": {
      "text/plain": [
       "4nt DNA Sequence:\n",
       "GTTT"
      ]
     },
     "execution_count": 9,
     "metadata": {},
     "output_type": "execute_result"
    }
   ],
   "source": [
    "seq = randdnaseq(4)"
   ]
  },
  {
   "cell_type": "code",
   "execution_count": null,
   "metadata": {},
   "outputs": [],
   "source": [
    "DNAKmer{3}"
   ]
  },
  {
   "cell_type": "code",
   "execution_count": null,
   "metadata": {},
   "outputs": [],
   "source": []
  },
  {
   "cell_type": "code",
   "execution_count": 12,
   "metadata": {},
   "outputs": [
    {
     "name": "stdout",
     "output_type": "stream",
     "text": [
      "search: \u001b[0m\u001b[1me\u001b[22m\u001b[0m\u001b[1ma\u001b[22m\u001b[0m\u001b[1mc\u001b[22m\u001b[0m\u001b[1mh\u001b[22m\u001b[0m\u001b[1mk\u001b[22m\u001b[0m\u001b[1mm\u001b[22m\u001b[0m\u001b[1me\u001b[22m\u001b[0m\u001b[1mr\u001b[22m\n",
      "\n"
     ]
    },
    {
     "data": {
      "text/latex": [
       "No documentation found.\n",
       "\n",
       "\\texttt{BioSequences.eachkmer} is a \\texttt{Function}.\n",
       "\n",
       "\\begin{verbatim}\n",
       "# 6 methods for generic function \"eachkmer\":\n",
       "[1] eachkmer(seq::BioSequence{A}, K::Integer) where A<:DNAAlphabet in BioSequences at /Users/cameronprybol/.julia/packages/BioSequences/7i86L/src/eachkmer.jl:85\n",
       "[2] eachkmer(seq::BioSequence{A}, K::Integer, step::Integer) where A<:DNAAlphabet in BioSequences at /Users/cameronprybol/.julia/packages/BioSequences/7i86L/src/eachkmer.jl:85\n",
       "[3] eachkmer(seq::BioSequence{A}, K::Integer) where A<:RNAAlphabet in BioSequences at /Users/cameronprybol/.julia/packages/BioSequences/7i86L/src/eachkmer.jl:89\n",
       "[4] eachkmer(seq::BioSequence{A}, K::Integer, step::Integer) where A<:RNAAlphabet in BioSequences at /Users/cameronprybol/.julia/packages/BioSequences/7i86L/src/eachkmer.jl:89\n",
       "[5] eachkmer(seq::ReferenceSequence, K::Integer) in BioSequences at /Users/cameronprybol/.julia/packages/BioSequences/7i86L/src/eachkmer.jl:93\n",
       "[6] eachkmer(seq::ReferenceSequence, K::Integer, step::Integer) in BioSequences at /Users/cameronprybol/.julia/packages/BioSequences/7i86L/src/eachkmer.jl:93\n",
       "\\end{verbatim}\n"
      ],
      "text/markdown": [
       "No documentation found.\n",
       "\n",
       "`BioSequences.eachkmer` is a `Function`.\n",
       "\n",
       "```\n",
       "# 6 methods for generic function \"eachkmer\":\n",
       "[1] eachkmer(seq::BioSequence{A}, K::Integer) where A<:DNAAlphabet in BioSequences at /Users/cameronprybol/.julia/packages/BioSequences/7i86L/src/eachkmer.jl:85\n",
       "[2] eachkmer(seq::BioSequence{A}, K::Integer, step::Integer) where A<:DNAAlphabet in BioSequences at /Users/cameronprybol/.julia/packages/BioSequences/7i86L/src/eachkmer.jl:85\n",
       "[3] eachkmer(seq::BioSequence{A}, K::Integer) where A<:RNAAlphabet in BioSequences at /Users/cameronprybol/.julia/packages/BioSequences/7i86L/src/eachkmer.jl:89\n",
       "[4] eachkmer(seq::BioSequence{A}, K::Integer, step::Integer) where A<:RNAAlphabet in BioSequences at /Users/cameronprybol/.julia/packages/BioSequences/7i86L/src/eachkmer.jl:89\n",
       "[5] eachkmer(seq::ReferenceSequence, K::Integer) in BioSequences at /Users/cameronprybol/.julia/packages/BioSequences/7i86L/src/eachkmer.jl:93\n",
       "[6] eachkmer(seq::ReferenceSequence, K::Integer, step::Integer) in BioSequences at /Users/cameronprybol/.julia/packages/BioSequences/7i86L/src/eachkmer.jl:93\n",
       "```\n"
      ],
      "text/plain": [
       "  No documentation found.\n",
       "\n",
       "  \u001b[36mBioSequences.eachkmer\u001b[39m is a \u001b[36mFunction\u001b[39m.\n",
       "\n",
       "\u001b[36m  # 6 methods for generic function \"eachkmer\":\u001b[39m\n",
       "\u001b[36m  [1] eachkmer(seq::BioSequence{A}, K::Integer) where A<:DNAAlphabet in BioSequences at /Users/cameronprybol/.julia/packages/BioSequences/7i86L/src/eachkmer.jl:85\u001b[39m\n",
       "\u001b[36m  [2] eachkmer(seq::BioSequence{A}, K::Integer, step::Integer) where A<:DNAAlphabet in BioSequences at /Users/cameronprybol/.julia/packages/BioSequences/7i86L/src/eachkmer.jl:85\u001b[39m\n",
       "\u001b[36m  [3] eachkmer(seq::BioSequence{A}, K::Integer) where A<:RNAAlphabet in BioSequences at /Users/cameronprybol/.julia/packages/BioSequences/7i86L/src/eachkmer.jl:89\u001b[39m\n",
       "\u001b[36m  [4] eachkmer(seq::BioSequence{A}, K::Integer, step::Integer) where A<:RNAAlphabet in BioSequences at /Users/cameronprybol/.julia/packages/BioSequences/7i86L/src/eachkmer.jl:89\u001b[39m\n",
       "\u001b[36m  [5] eachkmer(seq::ReferenceSequence, K::Integer) in BioSequences at /Users/cameronprybol/.julia/packages/BioSequences/7i86L/src/eachkmer.jl:93\u001b[39m\n",
       "\u001b[36m  [6] eachkmer(seq::ReferenceSequence, K::Integer, step::Integer) in BioSequences at /Users/cameronprybol/.julia/packages/BioSequences/7i86L/src/eachkmer.jl:93\u001b[39m"
      ]
     },
     "execution_count": 12,
     "metadata": {},
     "output_type": "execute_result"
    }
   ],
   "source": [
    "eachkmer"
   ]
  },
  {
   "cell_type": "code",
   "execution_count": null,
   "metadata": {},
   "outputs": [],
   "source": [
    "canonical_kmers = "
   ]
  }
 ],
 "metadata": {
  "kernelspec": {
   "display_name": "Julia 1.0.5",
   "language": "julia",
   "name": "julia-1.0"
  },
  "language_info": {
   "file_extension": ".jl",
   "mimetype": "application/julia",
   "name": "julia",
   "version": "1.0.5"
  }
 },
 "nbformat": 4,
 "nbformat_minor": 4
}
